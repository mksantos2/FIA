{
  "nbformat": 4,
  "nbformat_minor": 0,
  "metadata": {
    "colab": {
      "name": "knn_breast_cancer.ipynb",
      "provenance": [],
      "collapsed_sections": [],
      "toc_visible": true
    },
    "kernelspec": {
      "name": "python3",
      "display_name": "Python 3"
    }
  },
  "cells": [
    {
      "cell_type": "markdown",
      "metadata": {
        "id": "gZRt37FUmaYu",
        "colab_type": "text"
      },
      "source": [
        "# KNN - Classificação Câncer de Mama"
      ]
    },
    {
      "cell_type": "code",
      "metadata": {
        "id": "dXJ5wJtWmtNq",
        "colab_type": "code",
        "outputId": "a719db4c-865f-490d-b83b-69b9adb96edc",
        "colab": {
          "base_uri": "https://localhost:8080/",
          "height": 195
        }
      },
      "source": [
        "import pandas as pd\n",
        "import numpy as np\n",
        "import math\n",
        "import operator\n",
        "\n",
        "#Carrega o dataset\n",
        "data = pd.read_csv(\"train_dataset.csv\")\n",
        "data.head()\n"
      ],
      "execution_count": 0,
      "outputs": [
        {
          "output_type": "execute_result",
          "data": {
            "text/html": [
              "<div>\n",
              "<style scoped>\n",
              "    .dataframe tbody tr th:only-of-type {\n",
              "        vertical-align: middle;\n",
              "    }\n",
              "\n",
              "    .dataframe tbody tr th {\n",
              "        vertical-align: top;\n",
              "    }\n",
              "\n",
              "    .dataframe thead th {\n",
              "        text-align: right;\n",
              "    }\n",
              "</style>\n",
              "<table border=\"1\" class=\"dataframe\">\n",
              "  <thead>\n",
              "    <tr style=\"text-align: right;\">\n",
              "      <th></th>\n",
              "      <th>1183516</th>\n",
              "      <th>3</th>\n",
              "      <th>1</th>\n",
              "      <th>1.1</th>\n",
              "      <th>1.2</th>\n",
              "      <th>2</th>\n",
              "      <th>1.3</th>\n",
              "      <th>1.4</th>\n",
              "      <th>1.5</th>\n",
              "      <th>1.6</th>\n",
              "      <th>2.1</th>\n",
              "    </tr>\n",
              "  </thead>\n",
              "  <tbody>\n",
              "    <tr>\n",
              "      <th>0</th>\n",
              "      <td>1183911</td>\n",
              "      <td>2</td>\n",
              "      <td>1</td>\n",
              "      <td>1</td>\n",
              "      <td>1</td>\n",
              "      <td>2</td>\n",
              "      <td>1</td>\n",
              "      <td>1</td>\n",
              "      <td>1</td>\n",
              "      <td>1</td>\n",
              "      <td>2</td>\n",
              "    </tr>\n",
              "    <tr>\n",
              "      <th>1</th>\n",
              "      <td>1183983</td>\n",
              "      <td>9</td>\n",
              "      <td>5</td>\n",
              "      <td>5</td>\n",
              "      <td>4</td>\n",
              "      <td>4</td>\n",
              "      <td>5</td>\n",
              "      <td>4</td>\n",
              "      <td>3</td>\n",
              "      <td>3</td>\n",
              "      <td>4</td>\n",
              "    </tr>\n",
              "    <tr>\n",
              "      <th>2</th>\n",
              "      <td>1184184</td>\n",
              "      <td>1</td>\n",
              "      <td>1</td>\n",
              "      <td>1</td>\n",
              "      <td>1</td>\n",
              "      <td>2</td>\n",
              "      <td>5</td>\n",
              "      <td>1</td>\n",
              "      <td>1</td>\n",
              "      <td>1</td>\n",
              "      <td>2</td>\n",
              "    </tr>\n",
              "    <tr>\n",
              "      <th>3</th>\n",
              "      <td>1184241</td>\n",
              "      <td>2</td>\n",
              "      <td>1</td>\n",
              "      <td>1</td>\n",
              "      <td>1</td>\n",
              "      <td>2</td>\n",
              "      <td>1</td>\n",
              "      <td>2</td>\n",
              "      <td>1</td>\n",
              "      <td>1</td>\n",
              "      <td>2</td>\n",
              "    </tr>\n",
              "    <tr>\n",
              "      <th>4</th>\n",
              "      <td>1184840</td>\n",
              "      <td>1</td>\n",
              "      <td>1</td>\n",
              "      <td>3</td>\n",
              "      <td>1</td>\n",
              "      <td>2</td>\n",
              "      <td>4</td>\n",
              "      <td>2</td>\n",
              "      <td>1</td>\n",
              "      <td>1</td>\n",
              "      <td>2</td>\n",
              "    </tr>\n",
              "  </tbody>\n",
              "</table>\n",
              "</div>"
            ],
            "text/plain": [
              "   1183516  3  1  1.1  1.2  2  1.3  1.4  1.5  1.6  2.1\n",
              "0  1183911  2  1    1    1  2    1    1    1    1    2\n",
              "1  1183983  9  5    5    4  4    5    4    3    3    4\n",
              "2  1184184  1  1    1    1  2    5    1    1    1    2\n",
              "3  1184241  2  1    1    1  2    1    2    1    1    2\n",
              "4  1184840  1  1    3    1  2    4    2    1    1    2"
            ]
          },
          "metadata": {
            "tags": []
          },
          "execution_count": 122
        }
      ]
    },
    {
      "cell_type": "code",
      "metadata": {
        "id": "1Jdc5dl4nJF6",
        "colab_type": "code",
        "colab": {}
      },
      "source": [
        "# Define a função que calcula a distância Euclidiana entre dois pontos(atributos).\n",
        "def euclideanDistance(data1, data2, length):\n",
        "    distance = 0\n",
        "    for x in range(length):\n",
        "        distance += np.square(data1[x] - data2[x])\n",
        "    return np.sqrt(distance)\n",
        "\n",
        "# Define o modelo KNN\n",
        "def knn(dataset, testRow, k): \n",
        "    \n",
        "    distances = {}\n",
        "    sort = {}\n",
        "    length = 9\n",
        "   # print(\"len test:\", length);\n",
        "    \n",
        "    \n",
        "    # Calculo da distância Euclidiana entre cada linha dos dados de treinamento e teste\n",
        "    for x in range(len(dataset)):\n",
        "         \n",
        "        dist = euclideanDistance(testRow, dataset.iloc[x], length)\n",
        "        \n",
        "        distances[x] = dist\n",
        "        \n",
        "    # Ordena o vetor em ordem crescente\n",
        "    sorted_d = sorted(distances.items(), key=operator.itemgetter(1))\n",
        "    \n",
        "    \n",
        "    neighbors = []\n",
        "    \n",
        "    # Pega o top k vizinhos\n",
        "    \n",
        "    for x in range(k):\n",
        "        neighbors.append(sorted_d[x][0])\n",
        "    \n",
        "    \n",
        "    #votos de cada classe\n",
        "    classVotes = {}\n",
        "    \n",
        "    \n",
        "    # Cálculo da maior frequência que uma classe aparece nos vizinhos\n",
        "    for x in range(len(neighbors)):\n",
        "        response = dataset.iloc[neighbors[x]][-1]\n",
        "        \n",
        "        if response in classVotes:\n",
        "            classVotes[response] += 1\n",
        "        else:\n",
        "            classVotes[response] = 1\n",
        "    \n",
        "\n",
        "    #Ordena do maior para o menor(ranking de quantos vizinhos próximos existem de cada classe)\n",
        "    sortedVotes = sorted(classVotes.items(), key=operator.itemgetter(1), reverse=True)\n",
        "    return(sortedVotes[0][0], neighbors)\n",
        "   \n",
        "\n"
      ],
      "execution_count": 0,
      "outputs": []
    },
    {
      "cell_type": "code",
      "metadata": {
        "id": "7DPv_SGscx5k",
        "colab_type": "code",
        "colab": {}
      },
      "source": [
        "data_test = pd.read_csv(\"test_dataset.csv\")\n",
        "#data_test_label = pd.read_csv(\"test_dataset.csv\")\n",
        "#data_test.head()\n"
      ],
      "execution_count": 0,
      "outputs": []
    },
    {
      "cell_type": "code",
      "metadata": {
        "id": "zFvjE1S5kJKd",
        "colab_type": "code",
        "outputId": "58eb8509-a70b-4b4b-dab4-b3652d865d6b",
        "colab": {
          "base_uri": "https://localhost:8080/",
          "height": 70
        }
      },
      "source": [
        "#tranformando o dataset das labels corretas\n",
        "data_test_label = data_test.drop(['5', '1', '2', '3', '4', '6', '7', '8', '9', '10'], axis= 1)\n",
        "lista_label = data_test_label.values.tolist()\n",
        "print(lista_label)\n",
        "#transformando o dataset para teste\n",
        "data_test = data_test.drop([ '1', '11'], axis= 1)\n",
        "lista_test = data_test.values.tolist()\n",
        "print(lista_test)\n",
        "#data_test.head()"
      ],
      "execution_count": 0,
      "outputs": [
        {
          "output_type": "stream",
          "text": [
            "[[2], [2], [2], [2], [2], [4], [2], [2], [2], [2], [2], [2], [4], [2], [4], [4], [2], [2], [4], [2], [4], [4], [2], [4], [2], [4], [2], [2], [2], [2], [2], [2], [4], [2], [2], [2], [4], [2], [4], [4], [2], [4], [4], [4], [4], [2], [4], [2], [2], [4], [4], [4], [4], [4], [4], [4], [4], [4], [4], [4], [4], [2], [4], [4], [2], [4], [2], [4], [4], [2], [2], [4], [2], [4], [4], [2], [2], [2], [2], [2], [2], [2], [2], [2], [4], [4], [4], [4], [2], [2], [2], [2], [2], [2], [2], [2], [2], [2], [4], [4], [4], [4], [2], [4], [4], [4], [4], [4], [2], [4], [2], [4], [4], [4], [2], [2], [2], [4], [2], [2], [2], [2], [4], [4], [4], [2], [4], [2], [4], [2], [2], [2], [4], [2], [2], [2], [2], [2], [2], [2]]\n",
            "[[5, 1, 1, 1, 2, 1, 3, 1, 1], [5, 4, 4, 5, 7, 10, 3, 2, 1], [3, 1, 1, 1, 2, 2, 3, 1, 1], [6, 8, 8, 1, 3, 4, 3, 7, 1], [4, 1, 1, 3, 2, 1, 3, 1, 1], [8, 10, 10, 8, 7, 10, 9, 7, 1], [1, 1, 1, 1, 2, 10, 3, 1, 1], [2, 1, 2, 1, 2, 1, 3, 1, 1], [2, 1, 1, 1, 2, 1, 1, 1, 5], [4, 2, 1, 1, 2, 1, 2, 1, 1], [1, 1, 1, 1, 1, 1, 3, 1, 1], [2, 1, 1, 1, 2, 1, 2, 1, 1], [5, 3, 3, 3, 2, 3, 4, 4, 1], [1, 1, 1, 1, 2, 3, 3, 1, 1], [8, 7, 5, 10, 7, 9, 5, 5, 4], [7, 4, 6, 4, 6, 1, 4, 3, 1], [4, 1, 1, 1, 2, 1, 2, 1, 1], [4, 1, 1, 1, 2, 1, 3, 1, 1], [10, 7, 7, 6, 4, 10, 4, 1, 2], [6, 1, 1, 1, 2, 1, 3, 1, 1], [7, 3, 2, 10, 5, 10, 5, 4, 4], [10, 5, 5, 3, 6, 7, 7, 10, 1], [3, 1, 1, 1, 2, 1, 2, 1, 1], [8, 4, 5, 1, 2, 4, 7, 3, 1], [1, 1, 1, 1, 2, 1, 3, 1, 1], [5, 2, 3, 4, 2, 7, 3, 6, 1], [3, 2, 1, 1, 1, 1, 2, 1, 1], [5, 1, 1, 1, 2, 1, 2, 1, 1], [2, 1, 1, 1, 2, 1, 2, 1, 1], [1, 1, 3, 1, 2, 1, 1, 1, 1], [3, 1, 1, 1, 1, 1, 2, 1, 1], [2, 1, 1, 1, 2, 1, 3, 1, 1], [10, 7, 7, 3, 8, 5, 7, 4, 3], [2, 1, 1, 2, 2, 1, 3, 1, 1], [3, 1, 2, 1, 2, 1, 2, 1, 1], [2, 1, 1, 1, 2, 1, 2, 1, 1], [10, 10, 10, 8, 6, 1, 8, 9, 1], [6, 2, 1, 1, 1, 1, 7, 1, 1], [5, 4, 4, 9, 2, 10, 5, 6, 1], [2, 5, 3, 3, 6, 7, 7, 5, 1], [6, 6, 6, 9, 6, 4, 7, 8, 1], [10, 4, 3, 1, 3, 3, 6, 5, 2], [6, 10, 10, 2, 8, 10, 7, 3, 3], [5, 6, 5, 6, 10, 1, 3, 1, 1], [10, 10, 10, 4, 8, 1, 8, 10, 1], [1, 1, 1, 1, 2, 1, 2, 1, 2], [3, 7, 7, 4, 4, 9, 4, 8, 1], [1, 1, 1, 1, 2, 1, 2, 1, 1], [4, 1, 1, 3, 2, 1, 3, 1, 1], [7, 8, 7, 2, 4, 8, 3, 8, 2], [9, 5, 8, 1, 2, 3, 2, 1, 5], [5, 3, 3, 4, 2, 4, 3, 4, 1], [10, 3, 6, 2, 3, 5, 4, 10, 2], [5, 5, 5, 8, 10, 8, 7, 3, 7], [10, 5, 5, 6, 8, 8, 7, 1, 1], [10, 6, 6, 3, 4, 5, 3, 6, 1], [8, 10, 10, 1, 3, 6, 3, 9, 1], [8, 2, 4, 1, 5, 1, 5, 4, 4], [5, 2, 3, 1, 6, 10, 5, 1, 1], [9, 5, 5, 2, 2, 2, 5, 1, 1], [5, 3, 5, 5, 3, 3, 4, 10, 1], [1, 1, 1, 1, 2, 2, 2, 1, 1], [9, 10, 10, 1, 10, 8, 3, 3, 1], [6, 3, 4, 1, 5, 2, 3, 9, 1], [1, 1, 1, 1, 2, 1, 2, 1, 1], [10, 4, 2, 1, 3, 2, 4, 3, 10], [4, 1, 1, 1, 2, 1, 3, 1, 1], [5, 3, 4, 1, 8, 10, 4, 9, 1], [8, 3, 8, 3, 4, 9, 8, 9, 8], [1, 1, 1, 1, 2, 1, 3, 2, 1], [5, 1, 3, 1, 2, 1, 2, 1, 1], [6, 10, 2, 8, 10, 2, 7, 8, 10], [1, 3, 3, 2, 2, 1, 7, 2, 1], [9, 4, 5, 10, 6, 10, 4, 8, 1], [10, 6, 4, 1, 3, 4, 3, 2, 3], [1, 1, 2, 1, 2, 2, 4, 2, 1], [1, 1, 4, 1, 2, 1, 2, 1, 1], [5, 3, 1, 2, 2, 1, 2, 1, 1], [3, 1, 1, 1, 2, 3, 3, 1, 1], [2, 1, 1, 1, 3, 1, 2, 1, 1], [2, 2, 2, 1, 1, 1, 7, 1, 1], [4, 1, 1, 2, 2, 1, 2, 1, 1], [5, 2, 1, 1, 2, 1, 3, 1, 1], [3, 1, 1, 1, 2, 2, 7, 1, 1], [3, 5, 7, 8, 8, 9, 7, 10, 7], [5, 10, 6, 1, 10, 4, 4, 10, 10], [3, 3, 6, 4, 5, 8, 4, 4, 1], [3, 6, 6, 6, 5, 10, 6, 8, 3], [4, 1, 1, 1, 2, 1, 3, 1, 1], [2, 1, 1, 2, 3, 1, 2, 1, 1], [1, 1, 1, 1, 2, 1, 3, 1, 1], [3, 1, 1, 2, 2, 1, 1, 1, 1], [4, 1, 1, 1, 2, 1, 3, 1, 1], [1, 1, 1, 1, 2, 1, 2, 1, 1], [2, 1, 1, 1, 2, 1, 3, 1, 1], [1, 1, 1, 1, 2, 1, 3, 1, 1], [2, 1, 1, 2, 2, 1, 1, 1, 1], [5, 1, 1, 1, 2, 1, 3, 1, 1], [9, 6, 9, 2, 10, 6, 2, 9, 10], [7, 5, 6, 10, 5, 10, 7, 9, 4], [10, 3, 5, 1, 10, 5, 3, 10, 2], [2, 3, 4, 4, 2, 5, 2, 5, 1], [4, 1, 2, 1, 2, 1, 3, 1, 1], [8, 2, 3, 1, 6, 3, 7, 1, 1], [10, 10, 10, 10, 10, 1, 8, 8, 8], [7, 3, 4, 4, 3, 3, 3, 2, 7], [10, 10, 10, 8, 2, 10, 4, 1, 1], [1, 6, 8, 10, 8, 10, 5, 7, 1], [1, 1, 1, 1, 2, 1, 2, 3, 1], [6, 5, 4, 4, 3, 9, 7, 8, 3], [1, 3, 1, 2, 2, 2, 5, 3, 2], [8, 6, 4, 3, 5, 9, 3, 1, 1], [10, 3, 3, 10, 2, 10, 7, 3, 3], [10, 10, 10, 3, 10, 8, 8, 1, 1], [3, 3, 2, 1, 2, 3, 3, 1, 1], [1, 1, 1, 1, 2, 5, 1, 1, 1], [8, 3, 3, 1, 2, 2, 3, 2, 1], [4, 5, 5, 10, 4, 10, 7, 5, 8], [1, 1, 1, 1, 4, 3, 1, 1, 1], [3, 2, 1, 1, 2, 2, 3, 1, 1], [1, 1, 2, 2, 2, 1, 3, 1, 1], [4, 2, 1, 1, 2, 2, 3, 1, 1], [10, 10, 10, 2, 10, 10, 5, 3, 3], [5, 3, 5, 1, 8, 10, 5, 3, 1], [5, 4, 6, 7, 9, 7, 8, 10, 1], [1, 1, 1, 1, 2, 1, 2, 1, 1], [7, 5, 3, 7, 4, 10, 7, 5, 5], [3, 1, 1, 1, 2, 1, 3, 1, 1], [8, 3, 5, 4, 5, 10, 1, 6, 2], [1, 1, 1, 1, 10, 1, 1, 1, 1], [5, 1, 3, 1, 2, 1, 2, 1, 1], [2, 1, 1, 1, 2, 1, 3, 1, 1], [5, 10, 8, 10, 8, 10, 3, 6, 3], [3, 1, 1, 1, 2, 1, 2, 2, 1], [3, 1, 1, 1, 3, 1, 2, 1, 1], [5, 1, 1, 1, 2, 2, 3, 3, 1], [4, 1, 1, 1, 2, 1, 2, 1, 1], [3, 1, 1, 1, 2, 1, 1, 1, 1], [4, 1, 2, 1, 2, 1, 2, 1, 1], [1, 1, 1, 1, 1, 4, 2, 1, 1]]\n"
          ],
          "name": "stdout"
        }
      ]
    },
    {
      "cell_type": "code",
      "metadata": {
        "id": "8qEqHaN7syKx",
        "colab_type": "code",
        "outputId": "7d465757-6a98-4c79-b4bf-616b8b2b941a",
        "colab": {
          "base_uri": "https://localhost:8080/",
          "height": 34
        }
      },
      "source": [
        "\n",
        "#Testando o algoritmo\n",
        "\n",
        "\n",
        "#Setando o número de vizinhos\n",
        "k = 1\n",
        "\n",
        "total1 = 0\n",
        "\n",
        "for x in range(len(lista_test)):\n",
        "    # Executando o modelo KNN para cada linha do dataset de test\n",
        "    predict = lista_label[x]\n",
        "    \n",
        "    result,neigh = knn(data, lista_test[x], k)\n",
        "   # print(result)\n",
        "    #print(neigh)\n",
        "    #print(predict)\n",
        "    if (result == predict):\n",
        "        total1+=1\n",
        "    \n",
        "print(\"Acurácia foi de: \", 100*total1/len(lista_test))\n",
        "#testRow1 = [[4,8,8,5,4,5,10,4,1]] # resposta certa é 4\n",
        "#test = pd.DataFrame(testRow1)\n",
        "\n",
        "\n",
        "\n",
        "#[[1,24,5,6,7,8,9,0,0]]\n",
        "\n",
        "\n"
      ],
      "execution_count": 0,
      "outputs": [
        {
          "output_type": "stream",
          "text": [
            "Acurácia foi de:  55.714285714285715\n"
          ],
          "name": "stdout"
        }
      ]
    },
    {
      "cell_type": "code",
      "metadata": {
        "id": "CcEhG19pn-w8",
        "colab_type": "code",
        "outputId": "ae70d631-2bcf-44b9-9fba-f14be3cd0a71",
        "colab": {
          "base_uri": "https://localhost:8080/",
          "height": 34
        }
      },
      "source": [
        "# Testando com 3 vizinhos \n",
        "k = 3 \n",
        "\n",
        "total2 = 0\n",
        "\n",
        "for x in range(len(lista_test)):\n",
        "    # Executando o modelo KNN para cada linha do dataset de test\n",
        "    predict = lista_label[x]\n",
        "    \n",
        "    result,neigh = knn(data, lista_test[x], k)\n",
        "   # print(result)\n",
        "    #print(neigh)\n",
        "    #print(predict)\n",
        "    if (result == predict):\n",
        "        total2+=1\n",
        "    \n",
        "print(\"Acurácia foi de: \", 100*total2/len(lista_test))\n",
        "#testRow1 = [[4,8,8,5,4,5,10,4,1]] # resposta certa é 4\n",
        "#test = pd.DataFrame(testRow1)\n"
      ],
      "execution_count": 0,
      "outputs": [
        {
          "output_type": "stream",
          "text": [
            "Acurácia foi de:  44.285714285714285\n"
          ],
          "name": "stdout"
        }
      ]
    },
    {
      "cell_type": "code",
      "metadata": {
        "id": "q8YP-1lMoDJ4",
        "colab_type": "code",
        "outputId": "67a98391-b3cf-454d-b3a7-073377ff2973",
        "colab": {
          "base_uri": "https://localhost:8080/",
          "height": 34
        }
      },
      "source": [
        "# Testando com 5 vizinhos \n",
        "k = 5\n",
        " \n",
        "total3 = 0\n",
        "\n",
        "for x in range(len(lista_test)):\n",
        "    # Executando o modelo KNN para cada linha do dataset de test\n",
        "    predict = lista_label[x]\n",
        "    \n",
        "    result,neigh = knn(data, lista_test[x], k)\n",
        "   # print(result)\n",
        "    #print(neigh)\n",
        "    #print(predict)\n",
        "    if (result == predict):\n",
        "        total3+=1\n",
        "    \n",
        "print(\"Acurácia foi de: \", 100*total3/len(lista_test))\n",
        "#testRow1 = [[4,8,8,5,4,5,10,4,1]] # resposta certa é 4\n",
        "#test = pd.DataFrame(testRow1)\n"
      ],
      "execution_count": 0,
      "outputs": [
        {
          "output_type": "stream",
          "text": [
            "Acurácia foi de:  44.285714285714285\n"
          ],
          "name": "stdout"
        }
      ]
    },
    {
      "cell_type": "markdown",
      "metadata": {
        "id": "XuHin2wqsdel",
        "colab_type": "text"
      },
      "source": [
        "# Relatório\n",
        "\n",
        "---\n",
        "\n",
        "Como o KNN usa os vizinhos mais próximos para tomar uma decisão e classificar um novo problema, é preciso levar em conta o método escolhido que mede a distância e principalmente o valor do \"k\". O valor do \"k\" define quantos vizinhos serão escolhidos para tomar a decisão, sendo que, a classe que tiver maior quantidade de vizinhos vence. Então cosneguimos testar e ver que se o \"k\" é muito pequeno, o algoritmo nem sempre vai ser tão preciso em alguns casos. Observamos também que não há uma grande diferença entre os k's depois que ele converge.(No caso, os resultados com k=3 eram bem parecidos com os de k=5.\n",
        "\n",
        "---\n",
        "\n",
        "Acurácia k=1 : 55.71%     \n",
        "\n",
        "Acurácia k=3 : 44.28%\n",
        "\n",
        "Acurácia k=3 : 44.28%\n",
        "\n",
        "---\n",
        "\n",
        "Alunos: Alexandre Bender, Victor Grovermann, Moniele Santos, Vinicius Borges, Rafael Ferreira"
      ]
    }
  ]
}