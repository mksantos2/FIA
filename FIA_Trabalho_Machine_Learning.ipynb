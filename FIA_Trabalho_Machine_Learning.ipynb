{
  "nbformat": 4,
  "nbformat_minor": 0,
  "metadata": {
    "colab": {
      "name": "FIA - Trabalho Machine Learning.ipynb",
      "provenance": [],
      "collapsed_sections": [],
      "toc_visible": true
    },
    "kernelspec": {
      "name": "python3",
      "display_name": "Python 3"
    }
  },
  "cells": [
    {
      "cell_type": "markdown",
      "metadata": {
        "id": "xhTmR01mXwua",
        "colab_type": "text"
      },
      "source": [
        "#Utilizando Uma Rede Neural MLP para predição de Câncer"
      ]
    },
    {
      "cell_type": "code",
      "metadata": {
        "id": "EmyV5oSASDEk",
        "colab_type": "code",
        "colab": {}
      },
      "source": [
        "# importando bibliotecas necessárias\n",
        "\n",
        "%matplotlib inline\n",
        "import pandas as pd\n",
        "import numpy as np \n",
        "import matplotlib.pyplot as plt\n",
        "\n",
        "import torch.utils.data as utils\n",
        "import torch\n",
        "from torch.utils.data import Dataset, DataLoader\n",
        "from torchvision import transforms, utils\n",
        "import seaborn as sn\n",
        "from sklearn.metrics import confusion_matrix\n",
        "\n",
        "import torchvision\n",
        "from sklearn.preprocessing import StandardScaler\n",
        "from sklearn.model_selection import train_test_split\n",
        "import collections\n",
        "\n",
        "import torch.nn as nn\n",
        "from torch.autograd import Variable\n",
        "import torch\n",
        "import torch.utils.data as utils"
      ],
      "execution_count": 0,
      "outputs": []
    },
    {
      "cell_type": "code",
      "metadata": {
        "id": "nxGJzeQXTE1k",
        "colab_type": "code",
        "outputId": "c85ce403-204d-4686-ea82-af08ea008c86",
        "colab": {
          "base_uri": "https://localhost:8080/",
          "height": 195
        }
      },
      "source": [
        "# carregar o dataset\n",
        "\n",
        "raw_data = pd.read_csv('breast-cancer-wisconsin.data')\n",
        "raw_data.head()"
      ],
      "execution_count": 0,
      "outputs": [
        {
          "output_type": "execute_result",
          "data": {
            "text/html": [
              "<div>\n",
              "<style scoped>\n",
              "    .dataframe tbody tr th:only-of-type {\n",
              "        vertical-align: middle;\n",
              "    }\n",
              "\n",
              "    .dataframe tbody tr th {\n",
              "        vertical-align: top;\n",
              "    }\n",
              "\n",
              "    .dataframe thead th {\n",
              "        text-align: right;\n",
              "    }\n",
              "</style>\n",
              "<table border=\"1\" class=\"dataframe\">\n",
              "  <thead>\n",
              "    <tr style=\"text-align: right;\">\n",
              "      <th></th>\n",
              "      <th>id</th>\n",
              "      <th>thickness</th>\n",
              "      <th>uni cell size</th>\n",
              "      <th>uni cell shape</th>\n",
              "      <th>adhesion</th>\n",
              "      <th>cell size</th>\n",
              "      <th>bare nuclei</th>\n",
              "      <th>chromatin</th>\n",
              "      <th>normal nucleoli</th>\n",
              "      <th>mitoses</th>\n",
              "      <th>class</th>\n",
              "    </tr>\n",
              "  </thead>\n",
              "  <tbody>\n",
              "    <tr>\n",
              "      <th>0</th>\n",
              "      <td>1000025</td>\n",
              "      <td>5</td>\n",
              "      <td>1</td>\n",
              "      <td>1</td>\n",
              "      <td>1</td>\n",
              "      <td>2</td>\n",
              "      <td>1</td>\n",
              "      <td>3</td>\n",
              "      <td>1</td>\n",
              "      <td>1</td>\n",
              "      <td>2</td>\n",
              "    </tr>\n",
              "    <tr>\n",
              "      <th>1</th>\n",
              "      <td>1002945</td>\n",
              "      <td>5</td>\n",
              "      <td>4</td>\n",
              "      <td>4</td>\n",
              "      <td>5</td>\n",
              "      <td>7</td>\n",
              "      <td>10</td>\n",
              "      <td>3</td>\n",
              "      <td>2</td>\n",
              "      <td>1</td>\n",
              "      <td>2</td>\n",
              "    </tr>\n",
              "    <tr>\n",
              "      <th>2</th>\n",
              "      <td>1015425</td>\n",
              "      <td>3</td>\n",
              "      <td>1</td>\n",
              "      <td>1</td>\n",
              "      <td>1</td>\n",
              "      <td>2</td>\n",
              "      <td>2</td>\n",
              "      <td>3</td>\n",
              "      <td>1</td>\n",
              "      <td>1</td>\n",
              "      <td>2</td>\n",
              "    </tr>\n",
              "    <tr>\n",
              "      <th>3</th>\n",
              "      <td>1016277</td>\n",
              "      <td>6</td>\n",
              "      <td>8</td>\n",
              "      <td>8</td>\n",
              "      <td>1</td>\n",
              "      <td>3</td>\n",
              "      <td>4</td>\n",
              "      <td>3</td>\n",
              "      <td>7</td>\n",
              "      <td>1</td>\n",
              "      <td>2</td>\n",
              "    </tr>\n",
              "    <tr>\n",
              "      <th>4</th>\n",
              "      <td>1017023</td>\n",
              "      <td>4</td>\n",
              "      <td>1</td>\n",
              "      <td>1</td>\n",
              "      <td>3</td>\n",
              "      <td>2</td>\n",
              "      <td>1</td>\n",
              "      <td>3</td>\n",
              "      <td>1</td>\n",
              "      <td>1</td>\n",
              "      <td>2</td>\n",
              "    </tr>\n",
              "  </tbody>\n",
              "</table>\n",
              "</div>"
            ],
            "text/plain": [
              "        id  thickness  uni cell size  ...  normal nucleoli  mitoses  class\n",
              "0  1000025          5              1  ...                1        1      2\n",
              "1  1002945          5              4  ...                2        1      2\n",
              "2  1015425          3              1  ...                1        1      2\n",
              "3  1016277          6              8  ...                7        1      2\n",
              "4  1017023          4              1  ...                1        1      2\n",
              "\n",
              "[5 rows x 11 columns]"
            ]
          },
          "metadata": {
            "tags": []
          },
          "execution_count": 2
        }
      ]
    },
    {
      "cell_type": "code",
      "metadata": {
        "id": "gzxxx3eOt51z",
        "colab_type": "code",
        "outputId": "1f2c0608-5795-43b3-d9a4-f4f1b3717ed3",
        "colab": {
          "base_uri": "https://localhost:8080/",
          "height": 195
        }
      },
      "source": [
        "# remover colunas não relevantes\n",
        "\n",
        "data = raw_data.drop([\"id\"], axis= 1)\n",
        "data.head()"
      ],
      "execution_count": 0,
      "outputs": [
        {
          "output_type": "execute_result",
          "data": {
            "text/html": [
              "<div>\n",
              "<style scoped>\n",
              "    .dataframe tbody tr th:only-of-type {\n",
              "        vertical-align: middle;\n",
              "    }\n",
              "\n",
              "    .dataframe tbody tr th {\n",
              "        vertical-align: top;\n",
              "    }\n",
              "\n",
              "    .dataframe thead th {\n",
              "        text-align: right;\n",
              "    }\n",
              "</style>\n",
              "<table border=\"1\" class=\"dataframe\">\n",
              "  <thead>\n",
              "    <tr style=\"text-align: right;\">\n",
              "      <th></th>\n",
              "      <th>thickness</th>\n",
              "      <th>uni cell size</th>\n",
              "      <th>uni cell shape</th>\n",
              "      <th>adhesion</th>\n",
              "      <th>cell size</th>\n",
              "      <th>bare nuclei</th>\n",
              "      <th>chromatin</th>\n",
              "      <th>normal nucleoli</th>\n",
              "      <th>mitoses</th>\n",
              "      <th>class</th>\n",
              "    </tr>\n",
              "  </thead>\n",
              "  <tbody>\n",
              "    <tr>\n",
              "      <th>0</th>\n",
              "      <td>5</td>\n",
              "      <td>1</td>\n",
              "      <td>1</td>\n",
              "      <td>1</td>\n",
              "      <td>2</td>\n",
              "      <td>1</td>\n",
              "      <td>3</td>\n",
              "      <td>1</td>\n",
              "      <td>1</td>\n",
              "      <td>2</td>\n",
              "    </tr>\n",
              "    <tr>\n",
              "      <th>1</th>\n",
              "      <td>5</td>\n",
              "      <td>4</td>\n",
              "      <td>4</td>\n",
              "      <td>5</td>\n",
              "      <td>7</td>\n",
              "      <td>10</td>\n",
              "      <td>3</td>\n",
              "      <td>2</td>\n",
              "      <td>1</td>\n",
              "      <td>2</td>\n",
              "    </tr>\n",
              "    <tr>\n",
              "      <th>2</th>\n",
              "      <td>3</td>\n",
              "      <td>1</td>\n",
              "      <td>1</td>\n",
              "      <td>1</td>\n",
              "      <td>2</td>\n",
              "      <td>2</td>\n",
              "      <td>3</td>\n",
              "      <td>1</td>\n",
              "      <td>1</td>\n",
              "      <td>2</td>\n",
              "    </tr>\n",
              "    <tr>\n",
              "      <th>3</th>\n",
              "      <td>6</td>\n",
              "      <td>8</td>\n",
              "      <td>8</td>\n",
              "      <td>1</td>\n",
              "      <td>3</td>\n",
              "      <td>4</td>\n",
              "      <td>3</td>\n",
              "      <td>7</td>\n",
              "      <td>1</td>\n",
              "      <td>2</td>\n",
              "    </tr>\n",
              "    <tr>\n",
              "      <th>4</th>\n",
              "      <td>4</td>\n",
              "      <td>1</td>\n",
              "      <td>1</td>\n",
              "      <td>3</td>\n",
              "      <td>2</td>\n",
              "      <td>1</td>\n",
              "      <td>3</td>\n",
              "      <td>1</td>\n",
              "      <td>1</td>\n",
              "      <td>2</td>\n",
              "    </tr>\n",
              "  </tbody>\n",
              "</table>\n",
              "</div>"
            ],
            "text/plain": [
              "   thickness  uni cell size  uni cell shape  ...  normal nucleoli  mitoses  class\n",
              "0          5              1               1  ...                1        1      2\n",
              "1          5              4               4  ...                2        1      2\n",
              "2          3              1               1  ...                1        1      2\n",
              "3          6              8               8  ...                7        1      2\n",
              "4          4              1               1  ...                1        1      2\n",
              "\n",
              "[5 rows x 10 columns]"
            ]
          },
          "metadata": {
            "tags": []
          },
          "execution_count": 3
        }
      ]
    },
    {
      "cell_type": "code",
      "metadata": {
        "id": "jVueqEhZuQ2l",
        "colab_type": "code",
        "outputId": "ef7cbd41-dea1-4284-9899-f41f13ce4430",
        "colab": {
          "base_uri": "https://localhost:8080/",
          "height": 34
        }
      },
      "source": [
        "print(\"The number of rows in X are {}\".format(len(data)))"
      ],
      "execution_count": 0,
      "outputs": [
        {
          "output_type": "stream",
          "text": [
            "The number of rows in X are 683\n"
          ],
          "name": "stdout"
        }
      ]
    },
    {
      "cell_type": "code",
      "metadata": {
        "id": "TaLbCkmxAPel",
        "colab_type": "code",
        "outputId": "0ce870ce-ba3b-4126-a75b-8bba4b6dc4da",
        "colab": {
          "base_uri": "https://localhost:8080/",
          "height": 34
        }
      },
      "source": [
        "# descartar dados indefinidos\n",
        "\n",
        "#data = data[~data[6].isin(['?'])]\n",
        "print(\"The number of rows in X are {}\".format(len(data)))"
      ],
      "execution_count": 0,
      "outputs": [
        {
          "output_type": "stream",
          "text": [
            "The number of rows in X are 683\n"
          ],
          "name": "stdout"
        }
      ]
    },
    {
      "cell_type": "code",
      "metadata": {
        "id": "hxrZWmkxuUid",
        "colab_type": "code",
        "outputId": "d3e92d2b-f4e2-4716-9cea-25defd47473f",
        "colab": {
          "base_uri": "https://localhost:8080/",
          "height": 50
        }
      },
      "source": [
        "# criando dados x e y\n",
        "\n",
        "data_x = data.loc[:, data.columns != \"class\"]\n",
        "data_y = data.loc[:, data.columns == \"class\"]\n",
        "\n",
        "#making sure everything is ok\n",
        "print(\"The number of rows in X are {}\".format(len(data_x)))\n",
        "print(\"The number of rows in Y are {}\".format(len(data_y)))"
      ],
      "execution_count": 0,
      "outputs": [
        {
          "output_type": "stream",
          "text": [
            "The number of rows in X are 683\n",
            "The number of rows in Y are 683\n"
          ],
          "name": "stdout"
        }
      ]
    },
    {
      "cell_type": "code",
      "metadata": {
        "id": "kElzBLSXuuII",
        "colab_type": "code",
        "outputId": "0fe374d9-fe21-4891-ffd7-a34e2bc6303a",
        "colab": {
          "base_uri": "https://localhost:8080/",
          "height": 252
        }
      },
      "source": [
        "# criando arrays numpy\n",
        "data_id_x = data_x.iloc[:,:].values\n",
        "data_id_y = data_y.iloc[:,:].values\n",
        " \n",
        "print(data_id_x[0:7])\n",
        "print(data_id_y[0:7])"
      ],
      "execution_count": 0,
      "outputs": [
        {
          "output_type": "stream",
          "text": [
            "[[ 5  1  1  1  2  1  3  1  1]\n",
            " [ 5  4  4  5  7 10  3  2  1]\n",
            " [ 3  1  1  1  2  2  3  1  1]\n",
            " [ 6  8  8  1  3  4  3  7  1]\n",
            " [ 4  1  1  3  2  1  3  1  1]\n",
            " [ 8 10 10  8  7 10  9  7  1]\n",
            " [ 1  1  1  1  2 10  3  1  1]]\n",
            "[[2]\n",
            " [2]\n",
            " [2]\n",
            " [2]\n",
            " [2]\n",
            " [4]\n",
            " [2]]\n"
          ],
          "name": "stdout"
        }
      ]
    },
    {
      "cell_type": "code",
      "metadata": {
        "id": "6JS8GfW7u7ba",
        "colab_type": "code",
        "outputId": "5dcd0e7d-440b-4636-d0b5-cc634d014beb",
        "colab": {
          "base_uri": "https://localhost:8080/",
          "height": 185
        }
      },
      "source": [
        "# normalizando valores\n",
        "\n",
        "scaler = StandardScaler()\n",
        "data_id_x = scaler.fit_transform(data_id_x)\n",
        " \n",
        "print(data_id_x[:5])"
      ],
      "execution_count": 0,
      "outputs": [
        {
          "output_type": "stream",
          "text": [
            "[[ 0.19790469 -0.70221201 -0.74177362 -0.63936553 -0.5556085  -0.69885309\n",
            "  -0.18182716 -0.61292736 -0.34839971]\n",
            " [ 0.19790469  0.27725185  0.26278299  0.75803177  1.69516613  1.77286724\n",
            "  -0.18182716 -0.28510482 -0.34839971]\n",
            " [-0.51164337 -0.70221201 -0.74177362 -0.63936553 -0.5556085  -0.4242175\n",
            "  -0.18182716 -0.61292736 -0.34839971]\n",
            " [ 0.55267873  1.58320366  1.6021918  -0.63936553 -0.10545357  0.12505369\n",
            "  -0.18182716  1.3540079  -0.34839971]\n",
            " [-0.15686934 -0.70221201 -0.74177362  0.05933312 -0.5556085  -0.69885309\n",
            "  -0.18182716 -0.61292736 -0.34839971]]\n"
          ],
          "name": "stdout"
        }
      ]
    },
    {
      "cell_type": "code",
      "metadata": {
        "id": "IJC_BUt_vIDb",
        "colab_type": "code",
        "outputId": "4ff641eb-3237-4e14-f01b-ea9cfe6c2fec",
        "colab": {
          "base_uri": "https://localhost:8080/",
          "height": 84
        }
      },
      "source": [
        "# dividir dataset em teste e treino\n",
        "\n",
        "X_train, X_test, Y_train, Y_test = train_test_split(data_id_x, data_id_y, test_size = 0.2)\n",
        "\n",
        "print(\"X_Train\", X_train.dtype, len(X_train))\n",
        "print(\"Y_Train\", Y_train.dtype, len(Y_train))\n",
        "print(\"X_Test\", X_test.dtype, len(X_test))\n",
        "print(\"Y_Test\", Y_test.dtype, len(Y_test))"
      ],
      "execution_count": 0,
      "outputs": [
        {
          "output_type": "stream",
          "text": [
            "X_Train float64 546\n",
            "Y_Train int64 546\n",
            "X_Test float64 137\n",
            "Y_Test int64 137\n"
          ],
          "name": "stdout"
        }
      ]
    },
    {
      "cell_type": "code",
      "metadata": {
        "id": "BO_unYVpvVYU",
        "colab_type": "code",
        "colab": {}
      },
      "source": [
        "#Try to convert numpy to torch Tensors\n",
        "\n",
        "\n",
        "\n",
        "X_train_T = torch.from_numpy(X_train.astype(\"float32\", casting=\"same_kind\"))\n",
        "X_test_T = torch.from_numpy(X_test.astype(\"float32\", casting=\"same_kind\"))\n",
        "Y_train_T = torch.from_numpy(Y_train.astype(\"float32\"))\n",
        "Y_test_T = torch.from_numpy(Y_test.astype(\"float32\"))\n",
        "\n",
        "#now lets create the training tensor dataset\n",
        "\n",
        "X_Dataset = utils.TensorDataset(X_train_T, Y_train_T)\n",
        "Y_Dataset = utils.TensorDataset(X_test_T, Y_test_T)"
      ],
      "execution_count": 0,
      "outputs": []
    },
    {
      "cell_type": "code",
      "metadata": {
        "id": "RDkSjEJsvfK8",
        "colab_type": "code",
        "outputId": "9fe9864d-74b7-4759-ee83-bd5425aa3efd",
        "colab": {
          "base_uri": "https://localhost:8080/",
          "height": 50
        }
      },
      "source": [
        "# criando dataloader\n",
        "\n",
        "batch_size = 1\n",
        "train_loader = utils.DataLoader(dataset=X_Dataset, batch_size = batch_size, shuffle = True)\n",
        "test_loader = utils.DataLoader(dataset=Y_Dataset, batch_size=batch_size, shuffle=True)\n",
        "\n",
        "\n",
        "# checa se dataloader é iterável\n",
        "\n",
        "print(isinstance(train_loader, collections.Iterable))\n",
        "print(isinstance(test_loader, collections.Iterable))"
      ],
      "execution_count": 0,
      "outputs": [
        {
          "output_type": "stream",
          "text": [
            "True\n",
            "True\n"
          ],
          "name": "stdout"
        }
      ]
    },
    {
      "cell_type": "code",
      "metadata": {
        "id": "wnbN-B05cbjs",
        "colab_type": "code",
        "outputId": "b48e1699-6e8a-419c-89db-123d275ca895",
        "colab": {
          "base_uri": "https://localhost:8080/",
          "height": 331
        }
      },
      "source": [
        "# checagem de proporção\n",
        "\n",
        "benign_dataset = data.loc[data.loc[:, 'class'] == 2]\n",
        "malignant_dataset = data.loc[data.loc[:, 'class'] == 4]\n",
        "\n",
        "benign = benign_dataset.count()[0]\n",
        "malignant = malignant_dataset.count()[0]\n",
        "\n",
        "print('Benign:', benign)\n",
        "print('Malignant:', malignant)\n",
        "print('Proportion:', round(benign / malignant, 2), ': 1')\n",
        "\n",
        "target_count = []\n",
        "target_count.append(benign)\n",
        "target_count.append(malignant)\n",
        "\n",
        "barlist = plt.bar([0, 1], target_count, align='center', alpha=0.5)\n",
        "barlist[1].set_color('orange')\n",
        "plt.xticks([0, 1])\n",
        "plt.ylabel('Examples')\n",
        "plt.title('Proportion')\n",
        "plt.show()"
      ],
      "execution_count": 0,
      "outputs": [
        {
          "output_type": "stream",
          "text": [
            "Benign: 444\n",
            "Malignant: 239\n",
            "Proportion: 1.86 : 1\n"
          ],
          "name": "stdout"
        },
        {
          "output_type": "display_data",
          "data": {
            "image/png": "[encoded data removed]",
            "text/plain": [
              "<Figure size 432x288 with 1 Axes>"
            ]
          },
          "metadata": {
            "tags": []
          }
        }
      ]
    },
    {
      "cell_type": "code",
      "metadata": {
        "id": "XWCg_B2gV7ak",
        "colab_type": "code",
        "colab": {}
      },
      "source": [
        "# definindo a arquitetura MLP\n",
        "\n",
        "class MLP(nn.Module):\n",
        "    def __init__(self):\n",
        "        super(MLP, self).__init__()\n",
        "        self.fc1 = nn.Linear(9, 18)\n",
        "        self.fc2 = nn.Linear(18, 9)\n",
        "        self.fc3 = nn.Linear(9, 1)\n",
        "\n",
        "        self.activation_function = nn.ReLU()\n",
        "    def forward(self, x):\n",
        "        x = x.view(-1, 9)\n",
        "        x = self.activation_function(self.fc1(x))\n",
        "        x = self.activation_function(self.fc2(x))\n",
        "        x = self.activation_function(self.fc3(x))\n",
        "        return x\n",
        "    "
      ],
      "execution_count": 0,
      "outputs": []
    },
    {
      "cell_type": "code",
      "metadata": {
        "id": "1gc0q58MV-h6",
        "colab_type": "code",
        "outputId": "3e9705c5-e332-4949-9c74-40df32be249c",
        "colab": {
          "base_uri": "https://localhost:8080/",
          "height": 118
        }
      },
      "source": [
        "# instanciando o modelo\n",
        "\n",
        "model = MLP()\n",
        "#model.cuda()\n",
        "print(model)\n",
        "\n",
        "# definindo otimizador e loss\n",
        "\n",
        "optimizer = torch.optim.SGD(model.parameters(), lr = 0.001, momentum = 0.9)\n",
        "#loss_fn = nn.CrossEntropyLoss()\n",
        "\n",
        "# outros otimizadores\n",
        "loss_fn = torch.nn.MSELoss()\n",
        "#optimizer = torch.optim.Adam(model.parameters(), lr=0.001)"
      ],
      "execution_count": 0,
      "outputs": [
        {
          "output_type": "stream",
          "text": [
            "MLP(\n",
            "  (fc1): Linear(in_features=9, out_features=18, bias=True)\n",
            "  (fc2): Linear(in_features=18, out_features=9, bias=True)\n",
            "  (fc3): Linear(in_features=9, out_features=1, bias=True)\n",
            "  (activation_function): ReLU()\n",
            ")\n"
          ],
          "name": "stdout"
        }
      ]
    },
    {
      "cell_type": "code",
      "metadata": {
        "id": "Kj1GpERrWDN7",
        "colab_type": "code",
        "outputId": "a92da8ba-6d81-45cc-f7e4-4c2d0612ebe9",
        "colab": {
          "base_uri": "https://localhost:8080/",
          "height": 1000
        }
      },
      "source": [
        "# realizando o treinamento\n",
        "\n",
        "epochs = 100\n",
        "train_losses = []\n",
        "running_losses_list = []\n",
        "train_accuracy_list = []\n",
        "#alpha = 0.001\n",
        "\n",
        "\n",
        "for epoch in range(epochs):\n",
        "    model.train()\n",
        "    i = 0\n",
        "    running_loss = 0.0\n",
        "    accuracy = 0.0\n",
        "    total = 0\n",
        "    correct = 0\n",
        "    \n",
        "    \n",
        "    for x, y in train_loader:\n",
        "        X = Variable(x)\n",
        "        Y = Variable(y)\n",
        "        optimizer.zero_grad()\n",
        "        \n",
        "        outputs = model(X)\n",
        "        predicted = outputs.item()\n",
        "        #print(predicted)\n",
        "        \n",
        "        loss = loss_fn(outputs, Y)\n",
        "\n",
        "        loss.backward()\n",
        "        optimizer.step()\n",
        "        \n",
        "        i += 1\n",
        "        \n",
        "        train_losses.append(loss.item())\n",
        "        running_loss += loss.item()\n",
        "        \n",
        "        #print(Y, outputs.data)\n",
        "        #print(type(outputs))\n",
        "        #print(outputs.data)\n",
        "        \n",
        "        if predicted >= 3:\n",
        "            predicted = 4\n",
        "        else:\n",
        "            predicted = 2\n",
        "        \n",
        "        total += Y.size(0)\n",
        "\n",
        "        if Y == predicted:\n",
        "            #print('acertou')\n",
        "            correct+=1\n",
        "        #else:\n",
        "            #print('errou')\n",
        "        \n",
        "    accuracy = correct / total * 100\n",
        "    train_accuracy_list.append(accuracy)    \n",
        "    running_losses_list.append(running_loss)\n",
        "    print(\"Epoch: %5d \\t Loss: %.5f \\t Accuracy: %.5f %%\" %(epoch+1,running_loss, accuracy))"
      ],
      "execution_count": 0,
      "outputs": [
        {
          "output_type": "stream",
          "text": [
            "Epoch:     1 \t Loss: 245.97218 \t Accuracy: 93.22344 %\n",
            "Epoch:     2 \t Loss: 81.73430 \t Accuracy: 96.88645 %\n",
            "Epoch:     3 \t Loss: 69.21997 \t Accuracy: 97.06960 %\n",
            "Epoch:     4 \t Loss: 58.26564 \t Accuracy: 97.61905 %\n",
            "Epoch:     5 \t Loss: 50.20785 \t Accuracy: 97.43590 %\n",
            "Epoch:     6 \t Loss: 47.81236 \t Accuracy: 97.61905 %\n",
            "Epoch:     7 \t Loss: 43.10653 \t Accuracy: 97.98535 %\n",
            "Epoch:     8 \t Loss: 40.29929 \t Accuracy: 98.16850 %\n",
            "Epoch:     9 \t Loss: 39.74462 \t Accuracy: 98.16850 %\n",
            "Epoch:    10 \t Loss: 38.82437 \t Accuracy: 98.16850 %\n",
            "Epoch:    11 \t Loss: 35.44846 \t Accuracy: 97.80220 %\n",
            "Epoch:    12 \t Loss: 35.20350 \t Accuracy: 98.35165 %\n",
            "Epoch:    13 \t Loss: 34.99226 \t Accuracy: 98.16850 %\n",
            "Epoch:    14 \t Loss: 33.89022 \t Accuracy: 98.53480 %\n",
            "Epoch:    15 \t Loss: 33.30916 \t Accuracy: 98.35165 %\n",
            "Epoch:    16 \t Loss: 32.41558 \t Accuracy: 98.35165 %\n",
            "Epoch:    17 \t Loss: 32.77015 \t Accuracy: 98.53480 %\n",
            "Epoch:    18 \t Loss: 32.92349 \t Accuracy: 98.16850 %\n",
            "Epoch:    19 \t Loss: 29.38786 \t Accuracy: 98.53480 %\n",
            "Epoch:    20 \t Loss: 32.03602 \t Accuracy: 98.53480 %\n",
            "Epoch:    21 \t Loss: 31.16880 \t Accuracy: 98.53480 %\n",
            "Epoch:    22 \t Loss: 31.49691 \t Accuracy: 98.53480 %\n",
            "Epoch:    23 \t Loss: 31.55588 \t Accuracy: 98.53480 %\n",
            "Epoch:    24 \t Loss: 31.60209 \t Accuracy: 98.53480 %\n",
            "Epoch:    25 \t Loss: 30.59328 \t Accuracy: 98.35165 %\n",
            "Epoch:    26 \t Loss: 29.95856 \t Accuracy: 98.53480 %\n",
            "Epoch:    27 \t Loss: 30.09563 \t Accuracy: 98.53480 %\n",
            "Epoch:    28 \t Loss: 28.99098 \t Accuracy: 98.35165 %\n",
            "Epoch:    29 \t Loss: 28.32278 \t Accuracy: 98.53480 %\n",
            "Epoch:    30 \t Loss: 28.23981 \t Accuracy: 98.53480 %\n",
            "Epoch:    31 \t Loss: 29.34053 \t Accuracy: 98.53480 %\n",
            "Epoch:    32 \t Loss: 28.29555 \t Accuracy: 98.53480 %\n",
            "Epoch:    33 \t Loss: 29.50273 \t Accuracy: 98.53480 %\n",
            "Epoch:    34 \t Loss: 29.76318 \t Accuracy: 98.35165 %\n",
            "Epoch:    35 \t Loss: 28.37826 \t Accuracy: 98.35165 %\n",
            "Epoch:    36 \t Loss: 27.76777 \t Accuracy: 98.71795 %\n",
            "Epoch:    37 \t Loss: 28.21423 \t Accuracy: 98.53480 %\n",
            "Epoch:    38 \t Loss: 26.64940 \t Accuracy: 98.53480 %\n",
            "Epoch:    39 \t Loss: 28.15538 \t Accuracy: 98.71795 %\n",
            "Epoch:    40 \t Loss: 26.96038 \t Accuracy: 98.53480 %\n",
            "Epoch:    41 \t Loss: 26.87044 \t Accuracy: 98.53480 %\n",
            "Epoch:    42 \t Loss: 26.70768 \t Accuracy: 98.53480 %\n",
            "Epoch:    43 \t Loss: 27.00095 \t Accuracy: 98.71795 %\n",
            "Epoch:    44 \t Loss: 27.45202 \t Accuracy: 98.53480 %\n",
            "Epoch:    45 \t Loss: 26.47241 \t Accuracy: 98.53480 %\n",
            "Epoch:    46 \t Loss: 26.31915 \t Accuracy: 98.53480 %\n",
            "Epoch:    47 \t Loss: 26.90355 \t Accuracy: 98.53480 %\n",
            "Epoch:    48 \t Loss: 27.05628 \t Accuracy: 98.71795 %\n",
            "Epoch:    49 \t Loss: 25.64652 \t Accuracy: 98.53480 %\n",
            "Epoch:    50 \t Loss: 25.47120 \t Accuracy: 98.71795 %\n",
            "Epoch:    51 \t Loss: 25.70640 \t Accuracy: 98.71795 %\n",
            "Epoch:    52 \t Loss: 24.67701 \t Accuracy: 98.53480 %\n",
            "Epoch:    53 \t Loss: 24.98174 \t Accuracy: 98.71795 %\n",
            "Epoch:    54 \t Loss: 24.86391 \t Accuracy: 98.71795 %\n",
            "Epoch:    55 \t Loss: 25.11101 \t Accuracy: 98.71795 %\n",
            "Epoch:    56 \t Loss: 24.99745 \t Accuracy: 98.71795 %\n",
            "Epoch:    57 \t Loss: 24.01412 \t Accuracy: 98.71795 %\n",
            "Epoch:    58 \t Loss: 23.94496 \t Accuracy: 98.71795 %\n",
            "Epoch:    59 \t Loss: 23.84654 \t Accuracy: 98.71795 %\n",
            "Epoch:    60 \t Loss: 23.13532 \t Accuracy: 98.71795 %\n",
            "Epoch:    61 \t Loss: 23.45891 \t Accuracy: 98.71795 %\n",
            "Epoch:    62 \t Loss: 23.24432 \t Accuracy: 98.71795 %\n",
            "Epoch:    63 \t Loss: 23.65466 \t Accuracy: 98.71795 %\n",
            "Epoch:    64 \t Loss: 22.58763 \t Accuracy: 98.71795 %\n",
            "Epoch:    65 \t Loss: 22.47207 \t Accuracy: 98.71795 %\n",
            "Epoch:    66 \t Loss: 22.50710 \t Accuracy: 98.71795 %\n",
            "Epoch:    67 \t Loss: 22.75622 \t Accuracy: 98.71795 %\n",
            "Epoch:    68 \t Loss: 21.68693 \t Accuracy: 98.71795 %\n",
            "Epoch:    69 \t Loss: 22.06895 \t Accuracy: 98.71795 %\n",
            "Epoch:    70 \t Loss: 21.77267 \t Accuracy: 98.71795 %\n",
            "Epoch:    71 \t Loss: 20.86939 \t Accuracy: 98.71795 %\n",
            "Epoch:    72 \t Loss: 21.85897 \t Accuracy: 98.71795 %\n",
            "Epoch:    73 \t Loss: 21.21041 \t Accuracy: 98.71795 %\n",
            "Epoch:    74 \t Loss: 20.33804 \t Accuracy: 98.71795 %\n",
            "Epoch:    75 \t Loss: 21.21933 \t Accuracy: 98.71795 %\n",
            "Epoch:    76 \t Loss: 21.43962 \t Accuracy: 98.71795 %\n",
            "Epoch:    77 \t Loss: 20.72488 \t Accuracy: 98.71795 %\n",
            "Epoch:    78 \t Loss: 20.09023 \t Accuracy: 98.71795 %\n",
            "Epoch:    79 \t Loss: 20.31091 \t Accuracy: 98.90110 %\n",
            "Epoch:    80 \t Loss: 19.69738 \t Accuracy: 98.71795 %\n",
            "Epoch:    81 \t Loss: 20.01815 \t Accuracy: 98.90110 %\n",
            "Epoch:    82 \t Loss: 19.69343 \t Accuracy: 98.71795 %\n",
            "Epoch:    83 \t Loss: 19.52483 \t Accuracy: 98.90110 %\n",
            "Epoch:    84 \t Loss: 19.12355 \t Accuracy: 98.90110 %\n",
            "Epoch:    85 \t Loss: 18.92579 \t Accuracy: 98.90110 %\n",
            "Epoch:    86 \t Loss: 18.61850 \t Accuracy: 99.08425 %\n",
            "Epoch:    87 \t Loss: 18.51543 \t Accuracy: 99.08425 %\n",
            "Epoch:    88 \t Loss: 18.69391 \t Accuracy: 99.08425 %\n",
            "Epoch:    89 \t Loss: 17.93228 \t Accuracy: 99.08425 %\n",
            "Epoch:    90 \t Loss: 19.08524 \t Accuracy: 99.08425 %\n",
            "Epoch:    91 \t Loss: 17.70299 \t Accuracy: 99.08425 %\n",
            "Epoch:    92 \t Loss: 16.46233 \t Accuracy: 99.08425 %\n",
            "Epoch:    93 \t Loss: 16.94049 \t Accuracy: 99.08425 %\n",
            "Epoch:    94 \t Loss: 17.86635 \t Accuracy: 99.08425 %\n",
            "Epoch:    95 \t Loss: 16.29953 \t Accuracy: 99.26740 %\n",
            "Epoch:    96 \t Loss: 17.03833 \t Accuracy: 99.08425 %\n",
            "Epoch:    97 \t Loss: 16.41954 \t Accuracy: 99.08425 %\n",
            "Epoch:    98 \t Loss: 16.98022 \t Accuracy: 99.26740 %\n",
            "Epoch:    99 \t Loss: 15.81514 \t Accuracy: 99.08425 %\n",
            "Epoch:   100 \t Loss: 15.61495 \t Accuracy: 99.26740 %\n"
          ],
          "name": "stdout"
        }
      ]
    },
    {
      "cell_type": "code",
      "metadata": {
        "id": "IIePBVYc73wO",
        "colab_type": "code",
        "outputId": "8b0c6348-df1e-4678-84ed-b6c740d729b9",
        "colab": {
          "base_uri": "https://localhost:8080/",
          "height": 545
        }
      },
      "source": [
        "# plot dos resultados\n",
        "plt.plot(train_accuracy_list, label='')\n",
        "plt.title(\"Training Accuracy\")\n",
        "plt.show()\n",
        "\n",
        "plt.plot(running_losses_list, label='')\n",
        "plt.title(\"Training Losses\")\n",
        "plt.show()\n"
      ],
      "execution_count": 0,
      "outputs": [
        {
          "output_type": "display_data",
          "data": {
            "image/png": "[encoded data removed]",
            "text/plain": [
              "<Figure size 432x288 with 1 Axes>"
            ]
          },
          "metadata": {
            "tags": []
          }
        },
        {
          "output_type": "display_data",
          "data": {
            "image/png": "[encoded data removed]",
            "text/plain": [
              "<Figure size 432x288 with 1 Axes>"
            ]
          },
          "metadata": {
            "tags": []
          }
        }
      ]
    },
    {
      "cell_type": "code",
      "metadata": {
        "id": "G6bANyLRxykW",
        "colab_type": "code",
        "outputId": "be6cc396-c95f-450f-8aad-79c7e0c37c9c",
        "colab": {
          "base_uri": "https://localhost:8080/",
          "height": 34
        }
      },
      "source": [
        "# avaliando o modelo aqui (no conjunto de validação) (ou teste, caso entrega)\n",
        "\n",
        "test_losses = []\n",
        "test_accuracies = []\n",
        "y_pred = []\n",
        "y_true = []\n",
        "\n",
        "model.eval()\n",
        "correct = 0\n",
        "total = 0\n",
        "with torch.no_grad():\n",
        "    for x, y in test_loader: #validation_loader\n",
        "        X = Variable(x)\n",
        "        Y = Variable(y)\n",
        "        \n",
        "        outputs = model(X)\n",
        "        predicted = outputs.item()\n",
        "\n",
        "        loss = loss_fn(outputs, Y)# + alpha * regularization_loss\n",
        "        \n",
        "        test_losses.append(loss.item())\n",
        "\n",
        "        if predicted >= 3:\n",
        "            predicted = 4\n",
        "        else:\n",
        "            predicted = 2\n",
        "            \n",
        "        total += Y.size(0)\n",
        "        if Y == predicted:\n",
        "            #print('acertou')\n",
        "            correct+=1\n",
        "        \n",
        "        if Y == 4:\n",
        "            y_true.append(4)\n",
        "        else:\n",
        "            y_true.append(2)\n",
        "        \n",
        "        y_pred.append(predicted)\n",
        "        \n",
        "accuracy = correct / total\n",
        "\n",
        "#test_accuracies.append(accuracy)\n",
        "print(\"Epoch: %5d \\t Loss: %.5f \\t Accuracy: %.2f %%\" %(epoch+1, sum(test_losses), accuracy*100))"
      ],
      "execution_count": 0,
      "outputs": [
        {
          "output_type": "stream",
          "text": [
            "Epoch:   100 \t Loss: 25.69714 \t Accuracy: 95.62 %\n"
          ],
          "name": "stdout"
        }
      ]
    },
    {
      "cell_type": "code",
      "metadata": {
        "id": "DMDQbQXLyU6I",
        "colab_type": "code",
        "outputId": "d0f09e2c-4675-4012-a7a3-05032b228fa5",
        "colab": {
          "base_uri": "https://localhost:8080/",
          "height": 446
        }
      },
      "source": [
        "# plottando a tabela de contingência\n",
        "\n",
        "cm = confusion_matrix(y_true, y_pred)\n",
        "\n",
        "df_cm = pd.DataFrame(cm, index=('noCancer', 'Cancer'), columns=('noCancer', 'Cancer'))\n",
        "plt.figure(figsize=(10,7))\n",
        "sn.heatmap(df_cm, annot=True, cmap=plt.cm.YlGnBu, fmt='d')\n",
        "plt.ylabel('True Label')\n",
        "plt.xlabel('Predicted Label')\n",
        "plt.show()"
      ],
      "execution_count": 0,
      "outputs": [
        {
          "output_type": "display_data",
          "data": {
            "image/png": "[encoded data removed]",
            "text/plain": [
              "<Figure size 720x504 with 2 Axes>"
            ]
          },
          "metadata": {
            "tags": []
          }
        }
      ]
    },
    {
      "cell_type": "markdown",
      "metadata": {
        "id": "ahqECVxrVDn0",
        "colab_type": "text"
      },
      "source": [
        "# Relatório\n",
        "\n",
        "---\n",
        "Utilizando Pandas para ler o dataset, removemos as colunas não relevantes para o problema(como id), convertemos o dataset para arrays numpy, normalizamos o dataset para evitar explosão de gradiente e valores tendenciosos, dividimos o dataset em teste e treino(20% teste, 80% treino), convertemos os arrays para tensores de dados do Pytorch e então para DataLoaders, para iterar pelos dados durante treino e teste.\n",
        "\n",
        "---\n",
        "\n",
        "Utilizamos uma MLP de duas camadas ocultas, com 9 neurônios de entrada, 18 na primeira camada oculta, 9 na segunda camada oculta e 1 na saída. Ela é Fully Connected. Utilizamos ReLU como função de ativação(ela propicia dropout natural e evita vanishing gradient). Treinamos por 100 épocas. Utilizamos MSE (lr = 0.001, momentum = 0.9) como função de loss e SGD como otimizador.\n",
        "\n",
        "---\n",
        "\n",
        "Como resultados obtivemos loss de 15.61 na última época do treinamento e acurácia de 99.26%.\n",
        "\n",
        "\n",
        "No conjunto de testes, obtivemos loss de 25.69  e acurácia de 95.62%.\n",
        "\n",
        "\n",
        "---\n",
        "Redes com arquiteturas mais complexas tendem a causar overfit dos dados. E esta foi uma das redes simples que testamos que ainda se mostrou representativa. \n",
        "\n",
        "---\n",
        "Alunos: Alexandre Bender, Victor Grovermann, Moniele Santos, Vinicius Borges, Rafael Ferreira"
      ]
    }
  ]
}